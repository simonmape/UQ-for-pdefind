{
 "cells": [
  {
   "cell_type": "code",
   "execution_count": null,
   "metadata": {},
   "outputs": [],
   "source": [
    "import numpy as np \n",
    "from tqdm import tqdm\n",
    "from get_params import *"
   ]
  },
  {
   "cell_type": "markdown",
   "metadata": {},
   "source": [
    "The training of PDE-FIND on the samples is done by the compute_params function from the file get_params.py. This function takes as input a list of matrices with the densities at different time points and outputs a matrix of dimension [number of pdefind library terms]x[number of samples]."
   ]
  },
  {
   "cell_type": "code",
   "execution_count": null,
   "metadata": {},
   "outputs": [],
   "source": [
    "FNU1 = np.loadtxt('/scratch/martinaperez/ABM_data/FNU1.txt') #change path to where data is stored\n",
    "ud1 = convert_to_list(FNU1,1000) #convert to format for compute_params function\n",
    "FNU_coeffs1 = compute_params(ud1,np.empty((9,1000)))\n",
    "np.savetxt('FNU_coeffs1.txt',FNU_coeffs1)"
   ]
  }
 ],
 "metadata": {
  "kernelspec": {
   "display_name": "Python 3",
   "language": "python",
   "name": "python3"
  },
  "language_info": {
   "codemirror_mode": {
    "name": "ipython",
    "version": 3
   },
   "file_extension": ".py",
   "mimetype": "text/x-python",
   "name": "python",
   "nbconvert_exporter": "python",
   "pygments_lexer": "ipython3",
   "version": "3.8.5"
  }
 },
 "nbformat": 4,
 "nbformat_minor": 4
}
