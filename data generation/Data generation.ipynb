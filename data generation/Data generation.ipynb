{
 "cells": [
  {
   "cell_type": "code",
   "execution_count": null,
   "metadata": {},
   "outputs": [],
   "source": [
    "import numpy as np\n",
    "import random as r\n",
    "from tqdm import tqdm\n",
    "from simulations import * #get numerical implementation of ABM"
   ]
  },
  {
   "cell_type": "markdown",
   "metadata": {},
   "source": [
    "We initialize using the lattice grid considered in the paper."
   ]
  },
  {
   "cell_type": "code",
   "execution_count": null,
   "metadata": {},
   "outputs": [],
   "source": [
    "IC = np.zeros((200,20))\n",
    "IC[95:105,:] = 1.0"
   ]
  },
  {
   "cell_type": "markdown",
   "metadata": {},
   "source": [
    "We simulate the ABMs for the chosen number of replicates. It is adviced to parallellize the for loop. "
   ]
  },
  {
   "cell_type": "code",
   "execution_count": null,
   "metadata": {},
   "outputs": [],
   "source": [
    "Ms = [1,50] #Number of simulations done to compute the average densities\n",
    "Ns= [1000,1000] #Number of times we compute the average densities\n",
    "times = [x*2 for x in range(500)]\n",
    "\n",
    "np.random.seed(42)\n",
    "for i in range(len(Ns)):\n",
    "    N = Ns[i]\n",
    "    M = Ms[i]\n",
    "    data = np.empty((len(times)*N,200))\n",
    "    for n in tqdm(range(N)):\n",
    "        new = average_over_realizations(M,times,1000,1,IC,1,0.001,0,0)\n",
    "        for j in range(len(new)):\n",
    "            data[n*len(times)+j,:] = new[j]\n",
    "    np.savetxt('FPU%s.txt'%M,data)"
   ]
  }
 ],
 "metadata": {
  "kernelspec": {
   "display_name": "Python 3",
   "language": "python",
   "name": "python3"
  },
  "language_info": {
   "codemirror_mode": {
    "name": "ipython",
    "version": 3
   },
   "file_extension": ".py",
   "mimetype": "text/x-python",
   "name": "python",
   "nbconvert_exporter": "python",
   "pygments_lexer": "ipython3",
   "version": "3.8.5"
  }
 },
 "nbformat": 4,
 "nbformat_minor": 4
}
