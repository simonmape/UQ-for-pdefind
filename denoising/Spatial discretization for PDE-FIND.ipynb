{
 "cells": [
  {
   "cell_type": "code",
   "execution_count": 62,
   "metadata": {},
   "outputs": [],
   "source": [
    "import robust_pdefind as rp\n",
    "from matplotlib import pyplot as plt\n",
    "from pdefind import *\n",
    "import numpy as np\n",
    "from tqdm import tqdm\n",
    "from get_params import *"
   ]
  },
  {
   "cell_type": "markdown",
   "metadata": {},
   "source": [
    "We define a function to spatially subsample the data. For each 5 columns in the grid, we take the average."
   ]
  },
  {
   "cell_type": "code",
   "execution_count": null,
   "metadata": {},
   "outputs": [],
   "source": [
    "def subsample(dens_list):\n",
    "    output = np.zeros((dens_list[0].shape[0],dens_list[0].shape[1]))\n",
    "    dl = []\n",
    "    for i in tqdm(range(len(dens_list))):\n",
    "        m= dens_list[i]           \n",
    "        disc = np.array([(m[:,4*j]+m[:,4*j+1]+m[:,4*j+2]+m[:,4*j+3])/4 for j in range(int(dens_list[0].shape[1]/4) -1)])\n",
    "        dl.append(disc)\n",
    "    return dl"
   ]
  },
  {
   "cell_type": "markdown",
   "metadata": {},
   "source": [
    "We change dx=5 in the compute_params function to adjust for the larger bins in the horizontal direction. "
   ]
  },
  {
   "cell_type": "code",
   "execution_count": 63,
   "metadata": {},
   "outputs": [],
   "source": [
    "FNU1 = np.loadtxt('/scratch/martinaperez/ABM_data/FNU1.txt')\n",
    "ud1 = convert_to_list(FNU1,1000)\n",
    "s_ud1 = subsample(ud1)\n",
    "FNU_coeffs1 = compute_params(ud1,np.empty((9,1000)))\n",
    "np.savetxt('FNU_coeffs1_subsample.txt',FNU_coeffs1)"
   ]
  }
 ],
 "metadata": {
  "kernelspec": {
   "display_name": "Python 3",
   "language": "python",
   "name": "python3"
  },
  "language_info": {
   "codemirror_mode": {
    "name": "ipython",
    "version": 3
   },
   "file_extension": ".py",
   "mimetype": "text/x-python",
   "name": "python",
   "nbconvert_exporter": "python",
   "pygments_lexer": "ipython3",
   "version": "3.8.5"
  }
 },
 "nbformat": 4,
 "nbformat_minor": 4
}
