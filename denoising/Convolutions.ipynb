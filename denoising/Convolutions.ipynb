{
 "cells": [
  {
   "cell_type": "code",
   "execution_count": 1,
   "metadata": {},
   "outputs": [],
   "source": [
    "import numpy as np\n",
    "from astropy.convolution import convolve, Gaussian1DKernel\n",
    "from tqdm import tqdm\n",
    "from get_params import *\n",
    "from pdefind import *"
   ]
  },
  {
   "cell_type": "markdown",
   "metadata": {},
   "source": [
    "We define a function below to smooth the data from the ABMs with a Gaussian kernel. "
   ]
  },
  {
   "cell_type": "code",
   "execution_count": 4,
   "metadata": {},
   "outputs": [],
   "source": [
    "gauss_kernel = Gaussian1DKernel(2)\n",
    "\n",
    "def gaussian_smooth(data_list,sd):\n",
    "    smoothed_densities = []\n",
    "    for i in tqdm(range(len(data_list))):\n",
    "        smooth = np.empty(data_list[0].shape)\n",
    "        for j in range(data_list[0].shape[0]):\n",
    "            smooth[j,:] = convolve(data_list[i][j,:],Gaussian1DKernel(sd))\n",
    "        smoothed_densities.append(smooth)\n",
    "    return smoothed_densities"
   ]
  },
  {
   "cell_type": "markdown",
   "metadata": {},
   "source": [
    "Load the appropriate data, convert it to a list so that it is in the correct format for the compute_params function. "
   ]
  },
  {
   "cell_type": "code",
   "execution_count": 5,
   "metadata": {},
   "outputs": [],
   "source": [
    "FNU1 = np.loadtxt('/scratch/martinaperez/ABM_data/FNU1.txt') #change paths as appropriate\n",
    "u1 = convert_to_list(FNU1,1000)\n",
    "su1 = gaussian_smooth(u1,2)\n",
    "FNU_coeffs1_smooth = compute_params(su1,np.empty((9,1000)))\n",
    "np.savetxt('FNU_coeffs1_smooth.txt',FNU_coeffs1_smooth)"
   ]
  }
 ],
 "metadata": {
  "kernelspec": {
   "display_name": "Python 3",
   "language": "python",
   "name": "python3"
  },
  "language_info": {
   "codemirror_mode": {
    "name": "ipython",
    "version": 3
   },
   "file_extension": ".py",
   "mimetype": "text/x-python",
   "name": "python",
   "nbconvert_exporter": "python",
   "pygments_lexer": "ipython3",
   "version": "3.8.5"
  }
 },
 "nbformat": 4,
 "nbformat_minor": 4
}
