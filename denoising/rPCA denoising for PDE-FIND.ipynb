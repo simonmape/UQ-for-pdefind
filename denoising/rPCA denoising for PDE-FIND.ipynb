{
 "cells": [
  {
   "cell_type": "code",
   "execution_count": null,
   "metadata": {},
   "outputs": [],
   "source": [
    "import robust_pdefind as rp\n",
    "from matplotlib import pyplot as plt\n",
    "from pdefind import *\n",
    "import numpy as np\n",
    "from get_params import *\n",
    "from tqdm import tqdm"
   ]
  },
  {
   "cell_type": "code",
   "execution_count": null,
   "metadata": {},
   "outputs": [],
   "source": [
    "#we adapt the function compute_params from the get_params file so that it implements the PCA approach of Li et al.\n",
    "def compute_robust_params(dens_list, dest_mat):  \n",
    "    for i in tqdm(range(len(dens_list))):\n",
    "        U = np.transpose(dens_list[i])\n",
    "        dt=2\n",
    "        dx =1\n",
    "        Z, E = rp.RobustPCA(U, lam_2 = 0.035)\n",
    "        \n",
    "        ##For loop below re-scales the maximum value of the obtained parameters##\n",
    "        for j in range(Z.shape[1]):\n",
    "            Z[:,j] = 0.5*Z[:,j]*(max(U[:,j])/max(Z[:,j]) + np.mean(U[:,j])/np.mean(Z[:,j]))\n",
    "        \n",
    "        Ut, R, rhs_des = build_linear_system(Z,dt,dx,D=2,P=2,time_diff = 'poly',deg_x =4)\n",
    "        w, X, E2 = rp.Robust_LRSTR(R, Ut, rhs_des)\n",
    "        dest_mat[:,i] = np.real(w[:,0])\n",
    "    return dest_mat"
   ]
  },
  {
   "cell_type": "code",
   "execution_count": null,
   "metadata": {},
   "outputs": [],
   "source": [
    "FNU1 = np.loadtxt('/scratch/martinaperez/ABM_data/FNU1.txt')\n",
    "ud1 = convert_to_list(FNU1,1000)\n",
    "robust_FNU_params = compute_robust_params(ud1,np.empty((9,1000)))\n",
    "np.savetxt('robust_PCA_coeffs1.txt',robust_FNU_params)"
   ]
  }
 ],
 "metadata": {
  "kernelspec": {
   "display_name": "Python 3",
   "language": "python",
   "name": "python3"
  },
  "language_info": {
   "codemirror_mode": {
    "name": "ipython",
    "version": 3
   },
   "file_extension": ".py",
   "mimetype": "text/x-python",
   "name": "python",
   "nbconvert_exporter": "python",
   "pygments_lexer": "ipython3",
   "version": "3.8.5"
  }
 },
 "nbformat": 4,
 "nbformat_minor": 4
}
